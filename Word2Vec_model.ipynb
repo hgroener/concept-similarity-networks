{
 "cells": [
  {
   "cell_type": "code",
   "execution_count": null,
   "metadata": {},
   "outputs": [],
   "source": [
    "import csv\n",
    "import re\n",
    "import gensim \n",
    "import nltk\n",
    "from gensim.models import Word2Vec\n",
    "from nltk.stem import WordNetLemmatizer \n",
    "nltk.download('wordnet')\n"
   ]
  },
  {
   "cell_type": "code",
   "execution_count": 1,
   "metadata": {},
   "outputs": [],
   "source": [
    "def preproc(file):\n",
    "    lemmatizer = WordNetLemmatizer() \n",
    "    tokenized_files = []\n",
    "    tokenized_row = []\n",
    "    filename = ''\n",
    "    for row in file[1:]:\n",
    "        tokenized_text = row[4]\n",
    "        text_tokens = tokenized_text.split()\n",
    "        for i, token in enumerate(text_tokens): \n",
    "            token = lemmatizer.lemmatize(token)\n",
    "            token = token.lower()\n",
    "            text_tokens[i] = token\n",
    "            if re.match('[^a-zA-Z0-9]', token):\n",
    "                text_tokens.remove(token)\n",
    "        if filename == row[0]:\n",
    "            tokenized_row = tokenized_row + text_tokens\n",
    "        else:\n",
    "            if tokenized_row != []:\n",
    "                tokenized_files.append(tokenized_row) \n",
    "            tokenized_row = text_tokens\n",
    "            filename = row[0]\n",
    "    return(tokenized_files)"
   ]
  },
  {
   "cell_type": "code",
   "execution_count": 8,
   "metadata": {},
   "outputs": [],
   "source": [
    "if __name__ == '__main__':\n",
    "    \n",
    "    with open('D:/Brown/brown.csv', newline='') as f:\n",
    "        reader = csv.reader(f)\n",
    "        data = list(reader)\n",
    "    \n",
    "    preproc_data = preproc(data)\n",
    "\n",
    "    brown_model = gensim.models.Word2Vec(preproc_data, min_count = 1, window = 5)"
   ]
  },
  {
   "cell_type": "code",
   "execution_count": 2,
   "metadata": {},
   "outputs": [],
   "source": [
    "#brown_model.similarity('apple', 'banana')"
   ]
  },
  {
   "cell_type": "code",
   "execution_count": 3,
   "metadata": {},
   "outputs": [],
   "source": [
    "#list(brown_model.wv.vocab)[:100]"
   ]
  }
 ],
 "metadata": {
  "kernelspec": {
   "display_name": "env",
   "language": "python",
   "name": "env"
  },
  "language_info": {
   "codemirror_mode": {
    "name": "ipython",
    "version": 3
   },
   "file_extension": ".py",
   "mimetype": "text/x-python",
   "name": "python",
   "nbconvert_exporter": "python",
   "pygments_lexer": "ipython3",
   "version": "3.7.3"
  }
 },
 "nbformat": 4,
 "nbformat_minor": 2
}
