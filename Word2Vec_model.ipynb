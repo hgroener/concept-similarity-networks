{
 "cells": [
  {
   "cell_type": "code",
   "execution_count": 6,
   "metadata": {},
   "outputs": [
    {
     "name": "stderr",
     "output_type": "stream",
     "text": [
      "[nltk_data] Downloading package averaged_perceptron_tagger to\n",
      "[nltk_data]     C:\\Users\\Hannes\\AppData\\Roaming\\nltk_data...\n",
      "[nltk_data]   Package averaged_perceptron_tagger is already up-to-\n",
      "[nltk_data]       date!\n"
     ]
    }
   ],
   "source": [
    "import csv\n",
    "import re\n",
    "import gensim \n",
    "import spacy\n",
    "from gensim.models import Word2Vec\n",
    "import nltk \n",
    "from nltk.stem import WordNetLemmatizer \n",
    "nltk.download('averaged_perceptron_tagger') \n",
    "from nltk.corpus import wordnet \n",
    "from nltk.corpus import reuters"
   ]
  },
  {
   "cell_type": "code",
   "execution_count": 7,
   "metadata": {},
   "outputs": [],
   "source": [
    "def pos_tagger(nltk_tag): \n",
    "    if nltk_tag.startswith('J'): \n",
    "        return wordnet.ADJ \n",
    "    elif nltk_tag.startswith('V'): \n",
    "        return wordnet.VERB \n",
    "    elif nltk_tag.startswith('N'): \n",
    "        return wordnet.NOUN \n",
    "    elif nltk_tag.startswith('R'): \n",
    "        return wordnet.ADV \n",
    "    else:           \n",
    "        return None\n"
   ]
  },
  {
   "cell_type": "code",
   "execution_count": 10,
   "metadata": {},
   "outputs": [],
   "source": [
    "def preproc(file):\n",
    "    lemmatizer = WordNetLemmatizer() \n",
    "    lemmatized_files = []\n",
    "    text_lemmas = []\n",
    "    last_fn = file[1][0]\n",
    "    for row in file[1:]:\n",
    "        lemma_list = []\n",
    "        fn = row[0]\n",
    "        pos_text = row[3]\n",
    "        pos_tokens = pos_text.split()\n",
    "        for token in pos_tokens:\n",
    "            token_w_pos = token.split(\"/\")\n",
    "            token_text = token_w_pos[0]\n",
    "            token_pos = pos_tagger(token_w_pos[1].upper())\n",
    "            if re.match(\"[a-zA-Z]+\", token_text):\n",
    "                token_text = token_text.lower()\n",
    "                if token_pos == None:\n",
    "                    token_lemma = lemmatizer.lemmatize(token_text)\n",
    "                else:\n",
    "                    token_lemma = lemmatizer.lemmatize(token_text, token_pos)\n",
    "                lemma_list.append(token_lemma)\n",
    "        if fn == last_fn:\n",
    "            text_lemmas = text_lemmas + lemma_list\n",
    "        elif lemma_list != []:\n",
    "            lemmatized_files.append(text_lemmas)\n",
    "            text_lemmas = lemma_list\n",
    "        last_fn = fn\n",
    "    lemmatized_files.append(text_lemmas)\n",
    "    return(lemmatized_files)"
   ]
  },
  {
   "cell_type": "code",
   "execution_count": 17,
   "metadata": {},
   "outputs": [
    {
     "name": "stdout",
     "output_type": "stream",
     "text": [
      "number of word types: 37056\n",
      "word types saved to model_vocab.txt\n"
     ]
    }
   ],
   "source": [
    "if __name__ == '__main__':\n",
    "    \n",
    "    with open('D:/Brown/brown.csv', newline='') as f:\n",
    "        reader = csv.reader(f)\n",
    "        data = list(reader)\n",
    "    \n",
    "    preproc_data = preproc(data)\n",
    "   \n",
    "    \n",
    "    brown_model = gensim.models.Word2Vec(preproc_data, min_count = 1, window = 5)\n",
    "    brown_vocab = list(brown_model.wv.vocab)\n",
    "    print(\"number of word types: \" + str(len(brown_vocab)))\n",
    "    \n",
    "    with open('model_vocab.txt', 'w') as f:\n",
    "        for item in brown_vocab:\n",
    "            f.write(\"%s\\n\" % item)\n",
    "    print(\"word types saved to model_vocab.txt\")"
   ]
  },
  {
   "cell_type": "code",
   "execution_count": null,
   "metadata": {},
   "outputs": [],
   "source": []
  }
 ],
 "metadata": {
  "kernelspec": {
   "display_name": "env",
   "language": "python",
   "name": "env"
  },
  "language_info": {
   "codemirror_mode": {
    "name": "ipython",
    "version": 3
   },
   "file_extension": ".py",
   "mimetype": "text/x-python",
   "name": "python",
   "nbconvert_exporter": "python",
   "pygments_lexer": "ipython3",
   "version": "3.7.3"
  }
 },
 "nbformat": 4,
 "nbformat_minor": 2
}
